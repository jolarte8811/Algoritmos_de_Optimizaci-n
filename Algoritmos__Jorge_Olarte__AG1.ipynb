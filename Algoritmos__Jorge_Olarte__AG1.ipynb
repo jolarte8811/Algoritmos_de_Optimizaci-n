{
  "nbformat": 4,
  "nbformat_minor": 0,
  "metadata": {
    "colab": {
      "provenance": []
    },
    "kernelspec": {
      "name": "python3",
      "display_name": "Python 3"
    },
    "language_info": {
      "name": "python"
    }
  },
  "cells": [
    {
      "cell_type": "markdown",
      "source": [
        "# Actividad Guiada 1\n",
        "#Jorge Luis Olarte Vargas\n",
        "\n",
        "Link repositorio Github\n",
        "https://github.com/jolarte8811/Algoritmos_de_Optimizaci-n.git"
      ],
      "metadata": {
        "id": "ggU4bofMzOKz"
      }
    },
    {
      "cell_type": "code",
      "execution_count": 15,
      "metadata": {
        "colab": {
          "base_uri": "https://localhost:8080/"
        },
        "id": "oA8taNIFzAcm",
        "outputId": "d42be88e-849a-45d7-d788-063a456e94c3"
      },
      "outputs": [
        {
          "output_type": "stream",
          "name": "stdout",
          "text": [
            "{'-------> mover bloque desde origen a pivote'}\n",
            "Mover bloque desde origen a destino\n",
            "{'-------> mover bloque desde pivote a destino'}\n"
          ]
        }
      ],
      "source": [
        "# Torres de hanio\n",
        "def torres_hanoi(N,origen,destino,pivote):\n",
        "  if N ==1:\n",
        "    print({f\"-------> mover bloque desde {origen} a {destino}\"})\n",
        "    return\n",
        "  torres_hanoi(N-1,origen,pivote,destino)\n",
        "  print(f\"Mover bloque desde {origen} a {destino}\")\n",
        "  torres_hanoi(N-1,pivote,destino,origen)\n",
        "\n",
        "\n",
        "torres_hanoi(2,\"origen\",\"destino\",\"pivote\")\n"
      ]
    },
    {
      "cell_type": "code",
      "source": [
        "def cambio_moneda(valor,sistema):\n",
        "  sistema.sort(reverse=True)\n",
        "  print(\"SISTEMA\")\n",
        "  print(sistema)\n",
        "  solucion = [0 for i in range (len(sistema))]\n",
        "\n",
        "  valor_acumulado=0\n",
        "  for i in range(len(sistema)):\n",
        "    moneda= int((valor-valor_acumulado)/sistema[i])\n",
        "    solucion[i]=moneda\n",
        "    valor_acumulado +=moneda*sistema[i]\n",
        "    if valor_acumulado== valor: break\n",
        "  return(solucion)\n",
        "cambio_moneda(221,[1,2,5])"
      ],
      "metadata": {
        "id": "zFA1M_cI7OgY"
      },
      "execution_count": 77,
      "outputs": []
    },
    {
      "cell_type": "code",
      "source": [
        "def puntos_mas_cercanos(puntos):\n",
        "\n",
        "\n",
        "  p0 =puntos[0]\n",
        "  p1 =puntos[1]\n",
        "\n",
        "  menor = abs(p0-p1)\n",
        "\n",
        "  for i in range(len(puntos)):\n",
        "    punto1= puntos[i]\n",
        "    for j in range (len(puntos)):\n",
        "      punto2=puntos[j]\n",
        "      if i != j:\n",
        "        if  abs(punto1-punto2)<menor:\n",
        "          p0 =puntos[i]\n",
        "          p1 =puntos[j]\n",
        "          menor= abs(punto1-punto2)\n",
        "\n",
        "  print(f\"los puntos mas cercanos nos {p0} y {p1} con una distancia de {menor}\")\n",
        "\n",
        "puntos_mas_cercanos([1,-2,4,7,10,20])\n"
      ],
      "metadata": {
        "colab": {
          "base_uri": "https://localhost:8080/"
        },
        "id": "1AFQ0U827l3E",
        "outputId": "68be51aa-66e4-4f4f-ec89-012f8428c4e2"
      },
      "execution_count": 103,
      "outputs": [
        {
          "output_type": "stream",
          "name": "stdout",
          "text": [
            "los puntos mas cercanos nos 1 y -2 con una distancia de 3\n"
          ]
        }
      ]
    },
    {
      "cell_type": "code",
      "source": [],
      "metadata": {
        "id": "xc5iHcsSaQMJ"
      },
      "execution_count": null,
      "outputs": []
    }
  ]
}