{
  "nbformat": 4,
  "nbformat_minor": 0,
  "metadata": {
    "colab": {
      "provenance": []
    },
    "kernelspec": {
      "name": "python3",
      "display_name": "Python 3"
    },
    "language_info": {
      "name": "python"
    }
  },
  "cells": [
    {
      "cell_type": "markdown",
      "source": [
        "# Actividad Guiada 2\n",
        "#Jorge Luis Olarte Vargas\n",
        "\n",
        "Link repositorio Github\n",
        "https://github.com/jolarte8811/Algoritmos_de_Optimizaci-n.git"
      ],
      "metadata": {
        "id": "JzNB9syreg0h"
      }
    },
    {
      "cell_type": "code",
      "execution_count": 2,
      "metadata": {
        "colab": {
          "base_uri": "https://localhost:8080/",
          "height": 0
        },
        "id": "llBt5sCJedKA",
        "outputId": "490b09eb-3bbc-4fc0-a50b-8b5d51fc38f1"
      },
      "outputs": [
        {
          "output_type": "stream",
          "name": "stdout",
          "text": [
            "Requirement already satisfied: requests in /usr/local/lib/python3.10/dist-packages (2.27.1)\n",
            "Requirement already satisfied: urllib3<1.27,>=1.21.1 in /usr/local/lib/python3.10/dist-packages (from requests) (1.26.16)\n",
            "Requirement already satisfied: certifi>=2017.4.17 in /usr/local/lib/python3.10/dist-packages (from requests) (2023.5.7)\n",
            "Requirement already satisfied: charset-normalizer~=2.0.0 in /usr/local/lib/python3.10/dist-packages (from requests) (2.0.12)\n",
            "Requirement already satisfied: idna<4,>=2.5 in /usr/local/lib/python3.10/dist-packages (from requests) (3.4)\n",
            "Requirement already satisfied: tsplib95 in /usr/local/lib/python3.10/dist-packages (0.7.1)\n",
            "Requirement already satisfied: Click>=6.0 in /usr/local/lib/python3.10/dist-packages (from tsplib95) (8.1.3)\n",
            "Requirement already satisfied: Deprecated~=1.2.9 in /usr/local/lib/python3.10/dist-packages (from tsplib95) (1.2.14)\n",
            "Requirement already satisfied: networkx~=2.1 in /usr/local/lib/python3.10/dist-packages (from tsplib95) (2.8.8)\n",
            "Requirement already satisfied: tabulate~=0.8.7 in /usr/local/lib/python3.10/dist-packages (from tsplib95) (0.8.10)\n",
            "Requirement already satisfied: wrapt<2,>=1.10 in /usr/local/lib/python3.10/dist-packages (from Deprecated~=1.2.9->tsplib95) (1.14.1)\n"
          ]
        }
      ],
      "source": [
        "!pip install requests    #Hacer llamadas http a paginas de la red\n",
        "!pip install tsplib95    #Modulo para las instancias del problema del TSP"
      ]
    },
    {
      "cell_type": "code",
      "source": [
        "import urllib.request #Hacer llamadas http a paginas de la red\n",
        "import tsplib95       #Modulo para las instancias del problema del TSP\n",
        "import math           #Modulo de funciones matematicas. Se usa para exp\n",
        "import random                     #Para generar valores aleatorios\n",
        "import copy\n",
        "\n",
        "#Descargamos el fichero de datos(Matriz de distancias)\n",
        "file = \"swiss42.tsp\" ;\n",
        "urllib.request.urlretrieve(\"http://comopt.ifi.uni-heidelberg.de/software/TSPLIB95/tsp/swiss42.tsp.gz\", file + '.gz')\n",
        "!gzip -d swiss42.tsp.gz     #Descomprimir el fichero de datos\n"
      ],
      "metadata": {
        "colab": {
          "base_uri": "https://localhost:8080/",
          "height": 0
        },
        "id": "Qn_69h1wfaiT",
        "outputId": "f3ec5ff9-a8a8-41d5-f958-657a4c1c48dd"
      },
      "execution_count": 3,
      "outputs": [
        {
          "output_type": "stream",
          "name": "stdout",
          "text": [
            "gzip: swiss42.tsp already exists; do you wish to overwrite (y or n)? y\n"
          ]
        }
      ]
    },
    {
      "cell_type": "code",
      "source": [
        "problem = tsplib95.load(file)\n",
        "Nodos = list(problem.get_nodes())\n",
        "Aristas = list(problem.get_edges())\n"
      ],
      "metadata": {
        "id": "ucV3wYNzgdQJ"
      },
      "execution_count": 4,
      "outputs": []
    },
    {
      "cell_type": "code",
      "source": [
        "def crear_solucion(N):\n",
        "  solucion = [N[0]]\n",
        "  for n in N[1:]:\n",
        "    solucion = solucion + [random.choice(list(set(N)- set({Nodos[0]})-set(solucion)))]\n",
        "  return(solucion)\n",
        "\n",
        "def distancia(a,b,problem):\n",
        "  return problem.get_weight(a,b)\n",
        "\n",
        "#Devuelve la distancia total de una trayectoria/solucion\n",
        "def distancia_total(solucion, problem):\n",
        "  distancia_total = 0\n",
        "  for i in range(len(solucion)-1):\n",
        "    distancia_total += distancia(solucion[i] ,solucion[i+1] ,  problem)\n",
        "  return distancia_total + distancia(solucion[len(solucion)-1] ,solucion[0], problem)\n",
        "\n"
      ],
      "metadata": {
        "id": "lpQ_gxO3hb53"
      },
      "execution_count": 5,
      "outputs": []
    },
    {
      "cell_type": "markdown",
      "source": [
        "## Busqueda Aleatoria"
      ],
      "metadata": {
        "id": "e50ZJP5fqfWF"
      }
    },
    {
      "cell_type": "code",
      "source": [
        "def Busqueda_Aletoria(problem,N):\n",
        "  Nodos = list(problem.get_nodes())\n",
        "  mejor_sol = []\n",
        "  #mejor_d = 10e10\n",
        "  mejor_d = float('inf')\n",
        "\n",
        "\n",
        "  for i in range(N):\n",
        "    s = crear_solucion(Nodos)\n",
        "\n",
        "    distancia = distancia_total(s,problem)\n",
        "\n",
        "    if distancia <mejor_d:\n",
        "      mejor_sol = s\n",
        "      mejor_d = distancia\n",
        "\n",
        "  #print(\"Mejor solución:\" , mejor_sol)\n",
        "  print(\"Distancia     :\" , mejor_d)\n",
        "  return mejor_sol\n",
        "\n",
        "solucion = Busqueda_Aletoria(problem,1000)\n"
      ],
      "metadata": {
        "colab": {
          "base_uri": "https://localhost:8080/",
          "height": 0
        },
        "id": "-ec98nruhS2l",
        "outputId": "e35f630f-b58f-49db-cae8-351dae50b6b2"
      },
      "execution_count": 6,
      "outputs": [
        {
          "output_type": "stream",
          "name": "stdout",
          "text": [
            "Distancia     : 3939\n"
          ]
        }
      ]
    },
    {
      "cell_type": "markdown",
      "source": [
        "## Busqueda Local"
      ],
      "metadata": {
        "id": "UkC74j19x1p0"
      }
    },
    {
      "cell_type": "code",
      "source": [
        "###############################################################################\n",
        "# BUSQUEDA LOCAL\n",
        "###############################################################################\n",
        "def genera_vecina(solucion):\n",
        "  #Generador de soluciones vecinas: 2-opt (intercambiar 2 nodos) Si hay N nodos se generan (N-1)x(N-2)/2 soluciones\n",
        "  #Se puede modificar para aplicar otros generadores distintos que 2-opt\n",
        "  #print(solucion)\n",
        "  mejor_solucion = []\n",
        "  mejor_distancia = 10e100\n",
        "  for i in range(1,len(solucion)-1):          #Recorremos todos los nodos en bucle doble para evaluar todos los intercambios 2-opt\n",
        "    for j in range(i+1, len(solucion)):\n",
        "\n",
        "      #Se genera una nueva solución intercambiando los dos nodos i,j:\n",
        "      #  (usamos el operador + que para listas en python las concatena) : ej.: [1,2] + [3] = [1,2,3]\n",
        "      vecina = solucion[:i] + [solucion[j]] + solucion[i+1:j] + [solucion[i]] + solucion[j+1:]\n",
        "\n",
        "\n",
        "      #Se evalua la nueva solución ...\n",
        "      distancia_vecina = distancia_total(vecina, problem)\n",
        "\n",
        "      #... para guardarla si mejora las anteriores\n",
        "      if distancia_vecina <= mejor_distancia:\n",
        "        mejor_distancia = distancia_vecina\n",
        "        mejor_solucion = vecina\n",
        "  return mejor_solucion\n",
        "\n",
        "print(\"Distancia Solucion Incial:\" , distancia_total(solucion, problem))\n",
        "\n",
        "\n",
        "nueva_solucion = genera_vecina(solucion)\n",
        "print(\"Distancia Mejor Solucion Local:\", distancia_total(nueva_solucion, problem))"
      ],
      "metadata": {
        "colab": {
          "base_uri": "https://localhost:8080/",
          "height": 0
        },
        "id": "UAVnxKoNx5rB",
        "outputId": "020a001b-ec2f-448a-b7dc-7f329228d766"
      },
      "execution_count": 7,
      "outputs": [
        {
          "output_type": "stream",
          "name": "stdout",
          "text": [
            "Distancia Solucion Incial: 3939\n",
            "Distancia Mejor Solucion Local: 3718\n"
          ]
        }
      ]
    },
    {
      "cell_type": "code",
      "source": [
        "def buscar(solucion_referencia,mejor_distancia):\n",
        "  iteracion=0             #Un contador para saber las iteraciones que hacemos\n",
        "  while(1):\n",
        "    iteracion +=1         #Incrementamos el contador\n",
        "    #print('#',iteracion)\n",
        "\n",
        "    #Obtenemos la mejor vecina ...\n",
        "    vecina = genera_vecina(solucion_referencia)\n",
        "\n",
        "    #... y la evaluamos para ver si mejoramos respecto a lo encontrado hasta el momento\n",
        "    distancia_vecina = distancia_total(vecina, problem)\n",
        "\n",
        "    #Si no mejoramos hay que terminar. Hemos llegado a un minimo local(según nuestro operador de vencindad 2-opt)\n",
        "    if distancia_vecina < mejor_distancia:\n",
        "      #mejor_solucion = copy.deepcopy(vecina)   #Con copia profunda. Las copias en python son por referencia\n",
        "      mejor_solucion = vecina                   #Guarda la mejor solución encontrada\n",
        "      mejor_distancia = distancia_vecina\n",
        "\n",
        "    else:\n",
        "      print(\"  En la iteracion \", iteracion, \", la mejor solución encontrada es:\" , mejor_solucion)\n",
        "      print(\"  Distancia     :\" , mejor_distancia)\n",
        "      return (mejor_solucion,mejor_distancia)\n",
        "\n",
        "    solucion_referencia = vecina\n",
        "\n",
        "\n",
        "\n",
        "#Busqueda Local:\n",
        "#  - Sobre el operador de vecindad 2-opt(funcion genera_vecina)\n",
        "#  - Sin criterio de parada, se para cuando no es posible mejorar.\n",
        "def busqueda_local(problem,arranque=100):\n",
        "  mejor_solucion = []\n",
        "\n",
        "  #Generar N soluciones iniciales de referencia(aleatoria) y escoje la mejor.\n",
        "  solucion_referencia = []\n",
        "  mejor_distancia = 10e10\n",
        "  solucion_referencia_final = []\n",
        "  mejor_distancia_final = 10e10\n",
        "\n",
        "  N_arranque=0\n",
        "  N_arranque_final=0\n",
        "  for i in range(arranque):\n",
        "    solucion_referencia2 = crear_solucion(Nodos)\n",
        "    mejor_distancia2 = distancia_total(solucion_referencia2, problem)\n",
        "    if mejor_distancia2 <=mejor_distancia*1.01:\n",
        "      N_arranque=N_arranque + 1\n",
        "      print(f\"Arranque numero {N_arranque} con distancia inical {mejor_distancia2}\")\n",
        "      solucion_referencia = solucion_referencia2\n",
        "      mejor_distancia = mejor_distancia2\n",
        "      mejor_solucion3,mejor_distancia3 = buscar(solucion_referencia,mejor_distancia)\n",
        "\n",
        "      if mejor_distancia3<mejor_distancia_final:\n",
        "        solucion_referencia_final = mejor_solucion3\n",
        "        mejor_distancia_final = mejor_distancia3\n",
        "        N_arranque_final = N_arranque\n",
        "  print(f\"-------la Mejor solucion fin fue lograda en el arranque {N_arranque_final}--------\")\n",
        "  print(solucion_referencia_final)\n",
        "  print(f\"con distacia {mejor_distancia_final}\")\n",
        "\n",
        "\n",
        "sol = busqueda_local(problem )"
      ],
      "metadata": {
        "colab": {
          "base_uri": "https://localhost:8080/",
          "height": 0
        },
        "id": "MgLx5OVy7hks",
        "outputId": "dd991de9-12fd-4290-f09a-ef0e628bfe24"
      },
      "execution_count": 28,
      "outputs": [
        {
          "output_type": "stream",
          "name": "stdout",
          "text": [
            "Arranque numero 1 con distancia inical 4729\n",
            "  En la iteracion  35 , la mejor solución encontrada es: [0, 18, 26, 5, 6, 4, 2, 28, 39, 21, 24, 40, 23, 41, 25, 10, 8, 9, 29, 30, 22, 38, 33, 20, 34, 32, 12, 11, 13, 19, 14, 16, 15, 36, 35, 31, 17, 37, 7, 1, 3, 27]\n",
            "  Distancia     : 1648\n",
            "Arranque numero 2 con distancia inical 4682\n",
            "  En la iteracion  38 , la mejor solución encontrada es: [0, 32, 30, 29, 9, 8, 28, 4, 26, 18, 12, 11, 25, 40, 24, 21, 34, 33, 20, 35, 36, 31, 17, 7, 6, 5, 13, 19, 14, 16, 15, 37, 38, 22, 39, 23, 41, 10, 2, 27, 3, 1]\n",
            "  Distancia     : 1784\n",
            "Arranque numero 3 con distancia inical 4542\n",
            "  En la iteracion  29 , la mejor solución encontrada es: [0, 22, 39, 21, 9, 8, 10, 25, 11, 12, 18, 4, 3, 27, 2, 28, 29, 30, 32, 35, 36, 31, 17, 37, 19, 13, 26, 5, 14, 16, 15, 7, 6, 1, 20, 33, 34, 38, 24, 40, 23, 41]\n",
            "  Distancia     : 1776\n",
            "Arranque numero 4 con distancia inical 4516\n",
            "  En la iteracion  31 , la mejor solución encontrada es: [0, 1, 6, 4, 3, 2, 29, 30, 28, 27, 7, 37, 17, 32, 38, 22, 24, 40, 21, 39, 9, 8, 23, 41, 25, 10, 13, 19, 14, 16, 15, 31, 20, 34, 33, 35, 36, 5, 26, 18, 11, 12]\n",
            "  Distancia     : 1752\n",
            "Arranque numero 5 con distancia inical 4525\n",
            "  En la iteracion  35 , la mejor solución encontrada es: [0, 3, 4, 6, 1, 7, 37, 15, 16, 14, 18, 12, 11, 25, 41, 23, 40, 24, 21, 8, 10, 26, 5, 13, 19, 20, 33, 35, 36, 17, 31, 34, 38, 22, 39, 9, 29, 30, 28, 2, 27, 32]\n",
            "  Distancia     : 1685\n",
            "Arranque numero 6 con distancia inical 4436\n",
            "  En la iteracion  36 , la mejor solución encontrada es: [0, 3, 27, 32, 34, 33, 20, 35, 36, 31, 17, 37, 15, 16, 14, 13, 11, 25, 40, 24, 29, 28, 2, 4, 6, 26, 5, 19, 7, 1, 18, 12, 10, 8, 38, 22, 9, 41, 23, 21, 39, 30]\n",
            "  Distancia     : 1817\n",
            "Arranque numero 7 con distancia inical 4401\n",
            "  En la iteracion  44 , la mejor solución encontrada es: [0, 6, 5, 13, 19, 14, 16, 15, 31, 20, 33, 34, 38, 22, 24, 40, 21, 39, 29, 30, 28, 2, 27, 32, 35, 36, 17, 37, 7, 1, 3, 4, 10, 8, 9, 23, 41, 25, 11, 12, 18, 26]\n",
            "  Distancia     : 1559\n",
            "Arranque numero 8 con distancia inical 4435\n",
            "  En la iteracion  38 , la mejor solución encontrada es: [0, 15, 16, 14, 19, 13, 11, 25, 12, 18, 5, 26, 10, 8, 9, 39, 22, 38, 30, 29, 28, 2, 27, 32, 34, 20, 31, 17, 37, 7, 6, 4, 1, 36, 35, 33, 21, 24, 40, 23, 41, 3]\n",
            "  Distancia     : 1869\n",
            "Arranque numero 9 con distancia inical 4416\n",
            "  En la iteracion  48 , la mejor solución encontrada es: [0, 14, 16, 19, 13, 11, 41, 23, 9, 22, 38, 34, 33, 20, 32, 28, 27, 2, 3, 4, 6, 12, 18, 26, 5, 15, 37, 36, 35, 31, 17, 7, 30, 29, 39, 24, 40, 21, 8, 25, 10, 1]\n",
            "  Distancia     : 1777\n",
            "Arranque numero 10 con distancia inical 4331\n",
            "  En la iteracion  33 , la mejor solución encontrada es: [0, 35, 36, 17, 7, 12, 11, 25, 10, 34, 20, 32, 27, 3, 1, 6, 5, 19, 13, 26, 18, 4, 2, 28, 9, 23, 41, 8, 29, 30, 39, 21, 40, 24, 22, 38, 33, 31, 37, 15, 16, 14]\n",
            "  Distancia     : 1881\n",
            "Arranque numero 11 con distancia inical 4327\n",
            "  En la iteracion  36 , la mejor solución encontrada es: [0, 28, 8, 41, 23, 40, 24, 21, 39, 9, 29, 37, 15, 16, 14, 19, 13, 5, 26, 4, 3, 27, 2, 10, 25, 11, 12, 18, 30, 22, 38, 34, 32, 1, 6, 7, 31, 20, 33, 35, 36, 17]\n",
            "  Distancia     : 1783\n",
            "Arranque numero 12 con distancia inical 4240\n",
            "  En la iteracion  39 , la mejor solución encontrada es: [0, 10, 25, 41, 40, 24, 21, 39, 35, 36, 29, 9, 23, 8, 26, 5, 13, 19, 14, 16, 15, 32, 30, 22, 38, 34, 33, 20, 31, 17, 37, 7, 1, 3, 27, 28, 2, 4, 6, 18, 11, 12]\n",
            "  Distancia     : 2019\n",
            "-------la Mejor solucion fin fue lograda en el arranque 7--------\n",
            "[0, 6, 5, 13, 19, 14, 16, 15, 31, 20, 33, 34, 38, 22, 24, 40, 21, 39, 29, 30, 28, 2, 27, 32, 35, 36, 17, 37, 7, 1, 3, 4, 10, 8, 9, 23, 41, 25, 11, 12, 18, 26]\n",
            "con distacia 1559\n"
          ]
        }
      ]
    },
    {
      "cell_type": "markdown",
      "source": [
        "## Ajustes.\n",
        "este algoritmo genera 100 soluciones aleatorias, y prueba los vecinos de las \"mejores\" soluciones iniciales encontradas, considerando una mejor solución la que tenga una distancia menor o igual a 101% del ultimo récord."
      ],
      "metadata": {
        "id": "W83W021szPf2"
      }
    }
  ]
}